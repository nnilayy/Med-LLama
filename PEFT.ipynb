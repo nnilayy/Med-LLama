{
  "nbformat": 4,
  "nbformat_minor": 0,
  "metadata": {
    "colab": {
      "provenance": [],
      "authorship_tag": "ABX9TyPOQVGUfzUCefl0i2aRHf/o",
      "include_colab_link": true
    },
    "kernelspec": {
      "name": "python3",
      "display_name": "Python 3"
    },
    "language_info": {
      "name": "python"
    }
  },
  "cells": [
    {
      "cell_type": "markdown",
      "metadata": {
        "id": "view-in-github",
        "colab_type": "text"
      },
      "source": [
        "<a href=\"https://colab.research.google.com/github/nnilayy/MedGPT/blob/main/PEFT.ipynb\" target=\"_parent\"><img src=\"https://colab.research.google.com/assets/colab-badge.svg\" alt=\"Open In Colab\"/></a>"
      ]
    },
    {
      "cell_type": "code",
      "source": [
        "# Loading the model in 8-bit and 4-bit\n",
        "checkpoint = \"TinyLlama/TinyLlama-1.1B-intermediate-step-1431k-3T\"\n",
        "\n",
        "tokenizer = AutoTokenizer.from_pretrained(checkpoint, padding_side=\"right\",)\n",
        "tokenizer.pad_token = tokenizer.eos_token\n",
        "\n",
        "bnb_config = BitsAndBytesConfig(\n",
        "   load_in_8bit=True,\n",
        "#    bnb_4bit_quant_type=\"nf4\",\n",
        "#    bnb_4bit_use_double_quant=True,\n",
        "   bnb_8bit_compute_dtype=torch.bfloat16\n",
        ")\n",
        "\n",
        "model = AutoModelForCausalLM.from_pretrained(checkpoint,\n",
        "                                             device_map = \"auto\",\n",
        "                                             quantization_config = bnb_config\n",
        "                                             )"
      ],
      "metadata": {
        "id": "1B6jR53epGJL"
      },
      "execution_count": null,
      "outputs": []
    },
    {
      "cell_type": "code",
      "source": [
        "# TRAINING\n",
        "from peft import get_peft_model, LoraConfig, TaskType, prepare_model_for_kbit_training\n",
        "peft_config = LoraConfig(inference_mode=False,\n",
        "                         r=8,\n",
        "                         lora_alpha = 32,\n",
        "                         lora_dropout = 0.1,\n",
        "                         bias=\"none\",\n",
        "                         peft_type = TaskType.CAUSAL_LM, #\" CAUSAL_LM\"\n",
        "                         )\n",
        "\n",
        "model = prepare_model_for_kbit_training(model)\n",
        "model = get_peft_model(model, peft_config)\n",
        "model.gradient_checkpointing_enable()\n",
        "print(model.print_trainable_parameters())"
      ],
      "metadata": {
        "id": "4rQD3C-UrXG_"
      },
      "execution_count": null,
      "outputs": []
    },
    {
      "cell_type": "code",
      "source": [
        "# TYPICAL TRAINING CODE\n",
        "training_args = TrainingArguments(\n",
        "    output_dir=\"your-name/bigscience/mt0-large-lora\",\n",
        "    learning_rate=1e-3,\n",
        "    per_device_train_batch_size=32,\n",
        "    per_device_eval_batch_size=32,\n",
        "    num_train_epochs=2,\n",
        "    weight_decay=0.01,\n",
        "    evaluation_strategy=\"epoch\",\n",
        "    save_strategy=\"epoch\",\n",
        "    load_best_model_at_end=True,\n",
        ")\n",
        "\n",
        "trainer = Trainer(\n",
        "    model=model,\n",
        "    args=training_args,\n",
        "    train_dataset=tokenized_datasets[\"train\"],\n",
        "    eval_dataset=tokenized_datasets[\"test\"],\n",
        "    tokenizer=tokenizer,\n",
        "    data_collator=data_collator,\n",
        "    compute_metrics=compute_metrics,\n",
        ")\n",
        "\n",
        "trainer.train()"
      ],
      "metadata": {
        "id": "X7Ud2d7WBgiL"
      },
      "execution_count": null,
      "outputs": []
    },
    {
      "cell_type": "code",
      "source": [
        "# INFERENCE\n",
        "from peft import AutoPeftModel , AutoPeftModelForCausalLM\n",
        "from transformers import AutoTokenizer\n",
        "import torch\n",
        "\n",
        "# model = AutoPeftModel.from_pretrained(\"smangrul/openai-whisper-large-v2-LORA-colab\")\n",
        "model = AutoPeftModelForCausalLM.from_pretrained(\"ybelkada/opt-350m-lora\")\n",
        "\n",
        "tokenizer = AutoTokenizer.from_pretrained(\"facebook/opt-350m\")\n",
        "model = model.to(\"cuda\")\n",
        "\n",
        "model.eval()\n",
        "inputs = tokenizer(\"Preheat the oven to 350 degrees and place the cookie dough\", return_tensors=\"pt\")\n",
        "outputs = model.generate(input_ids=inputs[\"input_ids\"].to(\"cuda\"), max_new_tokens=50)\n",
        "print(tokenizer.batch_decode(outputs.detach().cpu().numpy(), skip_special_tokens=True)[0])"
      ],
      "metadata": {
        "id": "shkOtCtLJAI9"
      },
      "execution_count": null,
      "outputs": []
    },
    {
      "cell_type": "code",
      "source": [
        "# MERGE LORA WEIGHTS WITH BASE MODEL\n",
        "from transformers import AutoModelForCausalLM\n",
        "from peft import PeftModel\n",
        "\n",
        "# Assuming 'base_model' is your pre-trained model's name or path\n",
        "base_model = AutoModelForCausalLM.from_pretrained(\"base_model_name_or_path\")\n",
        "peft_model = PeftModel.from_pretrained(base_model, \"path_to_trained_adapter\")\n",
        "merged_model = peft_model.merge_and_unload()"
      ],
      "metadata": {
        "id": "05qb2tH6szQq"
      },
      "execution_count": null,
      "outputs": []
    }
  ]
}