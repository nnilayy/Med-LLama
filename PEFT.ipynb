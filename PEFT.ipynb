{
  "nbformat": 4,
  "nbformat_minor": 0,
  "metadata": {
    "colab": {
      "provenance": [],
      "authorship_tag": "ABX9TyNgjs2EHKLwMbZ8k/SpmyF1",
      "include_colab_link": true
    },
    "kernelspec": {
      "name": "python3",
      "display_name": "Python 3"
    },
    "language_info": {
      "name": "python"
    }
  },
  "cells": [
    {
      "cell_type": "markdown",
      "metadata": {
        "id": "view-in-github",
        "colab_type": "text"
      },
      "source": [
        "<a href=\"https://colab.research.google.com/github/nnilayy/MedGPT/blob/main/PEFT.ipynb\" target=\"_parent\"><img src=\"https://colab.research.google.com/assets/colab-badge.svg\" alt=\"Open In Colab\"/></a>"
      ]
    },
    {
      "cell_type": "code",
      "source": [
        "checkpoint = \"TinyLlama/TinyLlama-1.1B-intermediate-step-1431k-3T\"\n",
        "\n",
        "tokenizer = AutoTokenizer.from_pretrained(checkpoint, padding_side=\"right\",)\n",
        "tokenizer.pad_token = tokenizer.eos_token\n",
        "\n",
        "bnb_config = BitsAndBytesConfig(\n",
        "   load_in_8bit=True,\n",
        "#    bnb_4bit_quant_type=\"nf4\",\n",
        "#    bnb_4bit_use_double_quant=True,\n",
        "   bnb_8bit_compute_dtype=torch.bfloat16\n",
        ")\n",
        "\n",
        "model = AutoModelForCausalLM.from_pretrained(checkpoint,\n",
        "                                             device_map = \"auto\",\n",
        "                                             quantization_config = bnb_config\n",
        "                                             )"
      ],
      "metadata": {
        "id": "1B6jR53epGJL"
      },
      "execution_count": null,
      "outputs": []
    },
    {
      "cell_type": "code",
      "source": [
        "from peft import get_peft_model, LoraConfig, TaskType, prepare_model_for_kbit_training\n",
        "peft_config = LoraConfig(inference_mode=False,\n",
        "                         r=8,\n",
        "                         lora_alpha = 32,\n",
        "                         lora_dropout = 0.1,\n",
        "                         bias=\"none\",\n",
        "                         peft_type = TaskType.CAUSAL_LM, #\" CAUSAL_LM\"\n",
        "                         )\n",
        "\n",
        "model = prepare_model_for_kbit_training(model)\n",
        "model = get_peft_model(model, peft_config)\n",
        "model.gradient_checkpointing_enable()\n",
        "print(model.print_trainable_parameters())"
      ],
      "metadata": {
        "id": "4rQD3C-UrXG_"
      },
      "execution_count": null,
      "outputs": []
    },
    {
      "cell_type": "code",
      "source": [],
      "metadata": {
        "id": "05qb2tH6szQq"
      },
      "execution_count": null,
      "outputs": []
    },
    {
      "cell_type": "code",
      "source": [
        "from transformers import TrainingArguments, Trainer\n",
        "import bitsandbytes\n",
        "\n",
        "EPOCHS = 3\n",
        "LEARNING_RATE = 1e-4\n",
        "MODEL_SAVE_FOLDER_NAME = \"dolly-3b-lora\"\n",
        "training_args = TrainingArguments(\n",
        "                    output_dir=MODEL_SAVE_FOLDER_NAME,\n",
        "                    overwrite_output_dir=True,\n",
        "                    fp16=True,\n",
        "                    per_device_train_batch_size=1,\n",
        "                    per_device_eval_batch_size=1,\n",
        "                    learning_rate=LEARNING_RATE,\n",
        "                    num_train_epochs=EPOCHS,\n",
        "                    logging_strategy=\"epoch\",\n",
        "                    evaluation_strategy=\"epoch\",\n",
        "                    save_strategy=\"epoch\",\n",
        ")\n",
        "\n",
        "trainer = Trainer(\n",
        "        model=model,\n",
        "        tokenizer=tokenizer,\n",
        "        args=training_args,\n",
        "        train_dataset=split_dataset['train'],\n",
        "        eval_dataset=split_dataset[\"test\"],\n",
        "        data_collator=data_collator,\n",
        ")\n",
        "\n",
        "model.config.use_cache = False\n",
        "trainer.train()\n",
        "\n",
        "trainer.model.save_pretrained(MODEL_SAVE_FOLDER_NAME)\n",
        "\n",
        "trainer.save_model(MODEL_SAVE_FOLDER_NAME)\n",
        "trainer.model.config.save_pretrained(MODEL_SAVE_FOLDER_NAME)\n",
        "\n",
        "# The pretrained LLM is combined with the small trained weights from PEFT techniques and\n",
        "# this model is used for numerous tasks\n",
        "\n",
        "# The above figure shows the result of LLaMA 2 7B model trained on different floating points and results of\n",
        "# models on various tasks. The model trained on NF4 and float 4-bit gives better results than LoRA and LLaMA 2 7B\n",
        "# base model, while 4-bit NormalFloat perform slightly better performance than float4 datatype. QLoRA decreases the\n",
        "# memory requirements by almost using NF4 type. However, the tradeoff is a slower training time, which is to be\n",
        "# expected due to the quantization and dequantization steps."
      ],
      "metadata": {
        "id": "5gRk8hNgNwrz"
      },
      "execution_count": null,
      "outputs": []
    }
  ]
}