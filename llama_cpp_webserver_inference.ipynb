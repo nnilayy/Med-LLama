{
  "metadata": {
    "kernelspec": {
      "language": "python",
      "display_name": "Python 3",
      "name": "python3"
    },
    "language_info": {
      "name": "python",
      "version": "3.10.13",
      "mimetype": "text/x-python",
      "codemirror_mode": {
        "name": "ipython",
        "version": 3
      },
      "pygments_lexer": "ipython3",
      "nbconvert_exporter": "python",
      "file_extension": ".py"
    },
    "kaggle": {
      "accelerator": "nvidiaTeslaT4",
      "dataSources": [],
      "dockerImageVersionId": 30733,
      "isInternetEnabled": true,
      "language": "python",
      "sourceType": "notebook",
      "isGpuEnabled": true
    },
    "colab": {
      "name": "llama_cpp_webserver_inference",
      "provenance": [],
      "include_colab_link": true
    }
  },
  "nbformat_minor": 0,
  "nbformat": 4,
  "cells": [
    {
      "cell_type": "markdown",
      "metadata": {
        "id": "view-in-github",
        "colab_type": "text"
      },
      "source": [
        "<a href=\"https://colab.research.google.com/github/nnilayy/MedGPT/blob/main/llama_cpp_webserver_inference.ipynb\" target=\"_parent\"><img src=\"https://colab.research.google.com/assets/colab-badge.svg\" alt=\"Open In Colab\"/></a>"
      ]
    },
    {
      "cell_type": "code",
      "source": [
        "# This Python 3 environment comes with many helpful analytics libraries installed\n",
        "# It is defined by the kaggle/python Docker image: https://github.com/kaggle/docker-python\n",
        "# For example, here's several helpful packages to load\n",
        "\n",
        "import numpy as np # linear algebra\n",
        "import pandas as pd # data processing, CSV file I/O (e.g. pd.read_csv)\n",
        "\n",
        "# Input data files are available in the read-only \"../input/\" directory\n",
        "# For example, running this (by clicking run or pressing Shift+Enter) will list all files under the input directory\n",
        "\n",
        "import os\n",
        "for dirname, _, filenames in os.walk('/kaggle/input'):\n",
        "    for filename in filenames:\n",
        "        print(os.path.join(dirname, filename))\n",
        "\n",
        "# You can write up to 20GB to the current directory (/kaggle/working/) that gets preserved as output when you create a version using \"Save & Run All\"\n",
        "# You can also write temporary files to /kaggle/temp/, but they won't be saved outside of the current session"
      ],
      "metadata": {
        "_uuid": "8f2839f25d086af736a60e9eeb907d3b93b6e0e5",
        "_cell_guid": "b1076dfc-b9ad-4769-8c92-a6c4dae69d19",
        "trusted": true,
        "id": "QEav_9ROO5NP"
      },
      "execution_count": null,
      "outputs": []
    },
    {
      "cell_type": "code",
      "source": [
        "%%bash\n",
        "pip install llama-cpp-python"
      ],
      "metadata": {
        "trusted": true,
        "id": "GBL-VVJfO5NQ"
      },
      "execution_count": null,
      "outputs": []
    },
    {
      "cell_type": "code",
      "source": [
        "from llama_cpp import Llama\n",
        "\n",
        "llm = Llama.from_pretrained(\n",
        "    repo_id=\"Qwen/Qwen2-0.5B-Instruct-GGUF\",\n",
        "    filename=\"*q8_0.gguf\",\n",
        "    verbose=False,\n",
        "    n_ctx=2048,\n",
        "#     n_gpu_layers=-1\n",
        ")\n",
        "\n",
        "\n",
        "prompt = \"\"\"\n",
        "You are a helpful Doctor, Help the patient below with their queries and provide a detail ansewr to them\n",
        "Patient: Why DOes my nose hurt so bad Doctor, its like there is severe suffocation and my thorat is also hurting, Can you devise a full Weekly prescription as to what i shoudl take and also tell me safety\n",
        "precautions to take, please, i would be forever thankful?\n",
        "Doctor:\n",
        "\"\"\"\n",
        "\n",
        "\n",
        "output = llm(\n",
        "      prompt, # Prompt\n",
        "      max_tokens=None, # Generate up to 32 tokens, set to None to generate up to the end of the context window\n",
        "      stop=[\"Q:\", \"\\n\"],# Stop generating just before the model would generate a new question\n",
        "      echo=True # Echo the prompt back in the output\n",
        ")\n",
        "\n",
        "\n",
        "\n",
        "print(output['choices'][0]['text'])"
      ],
      "metadata": {
        "execution": {
          "iopub.status.busy": "2024-07-06T11:33:05.733565Z",
          "iopub.execute_input": "2024-07-06T11:33:05.734431Z",
          "iopub.status.idle": "2024-07-06T11:33:11.326895Z",
          "shell.execute_reply.started": "2024-07-06T11:33:05.734395Z",
          "shell.execute_reply": "2024-07-06T11:33:11.325936Z"
        },
        "trusted": true,
        "id": "pfrcVoCVO5NQ",
        "outputId": "fc637e58-926f-4a10-d5ef-e873d66e5b0f"
      },
      "execution_count": null,
      "outputs": [
        {
          "name": "stdout",
          "text": "\nYou are a helpful Doctor, Help the patient below with their queries and provide a detail ansewr to them\nPatient: Why DOes my nose hurt so bad Doctor, its like there is severe suffocation and my thorat is also hurting, Can you devise a full Weekly prescription as to what i shoudl take and also tell me safety\nprecautions to take, please, i would be forever thankful?\nDoctor: \nIt sounds like you may have an allergic reaction to your nasal polystirin (also known as saline or antihistamine nasal spray). This is a common symptom of many different respiratory illnesses. As for the safety and precautions, I'd recommend that you avoid any potentially allergenic foods or drinks such as eggs, peanuts, and dairy products as well as certain medications and exposure to extreme temperatures and humidity.\n",
          "output_type": "stream"
        }
      ]
    },
    {
      "cell_type": "code",
      "source": [
        "!pip install flask-ngrok"
      ],
      "metadata": {
        "execution": {
          "iopub.status.busy": "2024-07-06T11:45:21.133842Z",
          "iopub.execute_input": "2024-07-06T11:45:21.134499Z",
          "iopub.status.idle": "2024-07-06T11:45:33.858032Z",
          "shell.execute_reply.started": "2024-07-06T11:45:21.134465Z",
          "shell.execute_reply": "2024-07-06T11:45:33.85694Z"
        },
        "trusted": true,
        "id": "B93EXCZjO5NR",
        "outputId": "1b38d7fa-0876-4e2b-9175-4d4dbbb77567"
      },
      "execution_count": null,
      "outputs": [
        {
          "name": "stdout",
          "text": "Collecting flask-ngrok\n  Downloading flask_ngrok-0.0.25-py3-none-any.whl.metadata (1.8 kB)\nRequirement already satisfied: Flask>=0.8 in /opt/conda/lib/python3.10/site-packages (from flask-ngrok) (3.0.3)\nRequirement already satisfied: requests in /opt/conda/lib/python3.10/site-packages (from flask-ngrok) (2.32.3)\nRequirement already satisfied: Werkzeug>=3.0.0 in /opt/conda/lib/python3.10/site-packages (from Flask>=0.8->flask-ngrok) (3.0.3)\nRequirement already satisfied: Jinja2>=3.1.2 in /opt/conda/lib/python3.10/site-packages (from Flask>=0.8->flask-ngrok) (3.1.2)\nRequirement already satisfied: itsdangerous>=2.1.2 in /opt/conda/lib/python3.10/site-packages (from Flask>=0.8->flask-ngrok) (2.2.0)\nRequirement already satisfied: click>=8.1.3 in /opt/conda/lib/python3.10/site-packages (from Flask>=0.8->flask-ngrok) (8.1.7)\nRequirement already satisfied: blinker>=1.6.2 in /opt/conda/lib/python3.10/site-packages (from Flask>=0.8->flask-ngrok) (1.8.2)\nRequirement already satisfied: charset-normalizer<4,>=2 in /opt/conda/lib/python3.10/site-packages (from requests->flask-ngrok) (3.3.2)\nRequirement already satisfied: idna<4,>=2.5 in /opt/conda/lib/python3.10/site-packages (from requests->flask-ngrok) (3.6)\nRequirement already satisfied: urllib3<3,>=1.21.1 in /opt/conda/lib/python3.10/site-packages (from requests->flask-ngrok) (1.26.18)\nRequirement already satisfied: certifi>=2017.4.17 in /opt/conda/lib/python3.10/site-packages (from requests->flask-ngrok) (2024.2.2)\nRequirement already satisfied: MarkupSafe>=2.0 in /opt/conda/lib/python3.10/site-packages (from Jinja2>=3.1.2->Flask>=0.8->flask-ngrok) (2.1.3)\nDownloading flask_ngrok-0.0.25-py3-none-any.whl (3.1 kB)\nInstalling collected packages: flask-ngrok\nSuccessfully installed flask-ngrok-0.0.25\n",
          "output_type": "stream"
        }
      ]
    },
    {
      "cell_type": "code",
      "source": [
        "from flask import Flask, jsonify, request\n",
        "from flask_ngrok import run_with_ngrok\n",
        "\n",
        "app = Flask(__name__)\n",
        "run_with_ngrok(app)\n",
        "\n",
        "@app.route(“/”)\n",
        "def hello():\n",
        "    return “Hello World!! from Google Colab”\n",
        "\n",
        "if __name__ == ‘__main__’:\n",
        "app.run()"
      ],
      "metadata": {
        "id": "R9PhUlqjO5NR"
      },
      "execution_count": null,
      "outputs": []
    },
    {
      "cell_type": "code",
      "source": [],
      "metadata": {
        "execution": {
          "iopub.status.busy": "2024-07-06T11:54:58.994448Z",
          "iopub.execute_input": "2024-07-06T11:54:58.994836Z",
          "iopub.status.idle": "2024-07-06T11:55:00.264195Z",
          "shell.execute_reply.started": "2024-07-06T11:54:58.994803Z",
          "shell.execute_reply": "2024-07-06T11:55:00.26301Z"
        },
        "trusted": true,
        "id": "0Iz7zoI1O5NS",
        "outputId": "172d43bb-2b20-436e-bf21-5b3202f2d600"
      },
      "execution_count": null,
      "outputs": [
        {
          "name": "stdout",
          "text": " * Serving Flask app '__main__'\n * Debug mode: on\n",
          "output_type": "stream"
        },
        {
          "name": "stderr",
          "text": "Traceback (most recent call last):\n  File \"/opt/conda/lib/python3.10/runpy.py\", line 196, in _run_module_as_main\n    return _run_code(code, main_globals, None,\n  File \"/opt/conda/lib/python3.10/runpy.py\", line 86, in _run_code\n    exec(code, run_globals)\n  File \"/opt/conda/lib/python3.10/site-packages/ipykernel_launcher.py\", line 17, in <module>\n    app.launch_new_instance()\n  File \"/opt/conda/lib/python3.10/site-packages/traitlets/config/application.py\", line 1042, in launch_instance\n    app.initialize(argv)\n  File \"/opt/conda/lib/python3.10/site-packages/traitlets/config/application.py\", line 113, in inner\n    return method(app, *args, **kwargs)\n  File \"/opt/conda/lib/python3.10/site-packages/ipykernel/kernelapp.py\", line 654, in initialize\n    self.init_sockets()\n  File \"/opt/conda/lib/python3.10/site-packages/ipykernel/kernelapp.py\", line 331, in init_sockets\n    self.shell_port = self._bind_socket(self.shell_socket, self.shell_port)\n  File \"/opt/conda/lib/python3.10/site-packages/ipykernel/kernelapp.py\", line 253, in _bind_socket\n    return self._try_bind_socket(s, port)\n  File \"/opt/conda/lib/python3.10/site-packages/ipykernel/kernelapp.py\", line 229, in _try_bind_socket\n    s.bind(\"tcp://%s:%i\" % (self.ip, port))\n  File \"/opt/conda/lib/python3.10/site-packages/zmq/sugar/socket.py\", line 302, in bind\n    super().bind(addr)\n  File \"zmq/backend/cython/socket.pyx\", line 564, in zmq.backend.cython.socket.Socket.bind\n  File \"zmq/backend/cython/checkrc.pxd\", line 28, in zmq.backend.cython.checkrc._check_rc\nzmq.error.ZMQError: Address already in use (addr='tcp://127.0.0.1:46367')\n",
          "output_type": "stream"
        },
        {
          "traceback": [
            "An exception has occurred, use %tb to see the full traceback.\n",
            "\u001b[0;31mSystemExit\u001b[0m\u001b[0;31m:\u001b[0m 1\n"
          ],
          "ename": "SystemExit",
          "evalue": "1",
          "output_type": "error"
        }
      ]
    },
    {
      "cell_type": "code",
      "source": [
        "!ngrok authtoken \"2SI4PeRpXIA9iTShpVcRDvliYf5_78pcZKUJSaCd5aGZKgGT1\""
      ],
      "metadata": {
        "execution": {
          "iopub.status.busy": "2024-07-06T11:57:21.719775Z",
          "iopub.execute_input": "2024-07-06T11:57:21.72015Z",
          "iopub.status.idle": "2024-07-06T11:57:23.407479Z",
          "shell.execute_reply.started": "2024-07-06T11:57:21.72012Z",
          "shell.execute_reply": "2024-07-06T11:57:23.406299Z"
        },
        "trusted": true,
        "id": "vxByKE3SO5NS",
        "outputId": "7c4c14ac-f197-443e-cfbc-cdfd002cf95d"
      },
      "execution_count": null,
      "outputs": [
        {
          "name": "stdout",
          "text": "Authtoken saved to configuration file: /root/.config/ngrok/ngrok.yml                                \n",
          "output_type": "stream"
        }
      ]
    },
    {
      "cell_type": "code",
      "source": [
        "from flask import Flask, request, jsonify\n",
        "from flask_ngrok import run_with_ngrok\n",
        "from llama_cpp import Llama\n",
        "\n",
        "app = Flask(__name__)\n",
        "run_with_ngrok(app)\n",
        "# Load the model\n",
        "checkpoint = \"Qwen/Qwen2-0.5B-Instruct-GGUF\"\n",
        "filename = \"*q8_0.gguf\"\n",
        "llm = Llama.from_pretrained(\n",
        "    repo_id=checkpoint,\n",
        "    filename=filename,\n",
        "    verbose=False,\n",
        "    n_ctx=2048,\n",
        "#     n_gpu_layers=-1\n",
        ")\n",
        "\n",
        "\n",
        "@app.route('/predict', methods=['POST'])\n",
        "def predict():\n",
        "    data = request.json\n",
        "    prompt = data['prompt']\n",
        "    max_tokens = data.get('max_tokens', 32)\n",
        "\n",
        "    # Generate text\n",
        "    response = llm(prompt,\n",
        "                   max_tokens=max_tokens,\n",
        "                   stop=[\"Q:\", \"\\n\"],\n",
        "                   echo=True)\n",
        "\n",
        "    return jsonify(response)\n",
        "\n",
        "if __name__ == '__main__':\n",
        "    app.run()\n"
      ],
      "metadata": {
        "execution": {
          "iopub.status.busy": "2024-07-06T11:57:27.349391Z",
          "iopub.execute_input": "2024-07-06T11:57:27.350344Z",
          "iopub.status.idle": "2024-07-06T12:13:38.864486Z",
          "shell.execute_reply.started": "2024-07-06T11:57:27.350301Z",
          "shell.execute_reply": "2024-07-06T12:13:38.863594Z"
        },
        "trusted": true,
        "id": "tXUoeP7fO5NS",
        "outputId": "c39da650-2e16-4f50-81a9-ca35996fc9e8"
      },
      "execution_count": null,
      "outputs": [
        {
          "name": "stdout",
          "text": " * Serving Flask app '__main__'\n * Debug mode: off\nUsage of ngrok requires a verified account and authtoken.\n\nSign up for an account: https://dashboard.ngrok.com/signup\nInstall your authtoken: https://dashboard.ngrok.com/get-started/your-authtoken\n\nERR_NGROK_4018\n\n",
          "output_type": "stream"
        },
        {
          "name": "stderr",
          "text": "Exception in thread Thread-9:\nTraceback (most recent call last):\n  File \"/opt/conda/lib/python3.10/site-packages/urllib3/connection.py\", line 203, in _new_conn\n    sock = connection.create_connection(\n  File \"/opt/conda/lib/python3.10/site-packages/urllib3/util/connection.py\", line 85, in create_connection\n    raise err\n  File \"/opt/conda/lib/python3.10/site-packages/urllib3/util/connection.py\", line 73, in create_connection\n    sock.connect(sa)\nConnectionRefusedError: [Errno 111] Connection refused\n\nThe above exception was the direct cause of the following exception:\n\nTraceback (most recent call last):\n  File \"/opt/conda/lib/python3.10/site-packages/urllib3/connectionpool.py\", line 790, in urlopen\n    response = self._make_request(\n  File \"/opt/conda/lib/python3.10/site-packages/urllib3/connectionpool.py\", line 496, in _make_request\n    conn.request(\n  File \"/opt/conda/lib/python3.10/site-packages/urllib3/connection.py\", line 395, in request\n    self.endheaders()\n  File \"/opt/conda/lib/python3.10/http/client.py\", line 1278, in endheaders\n    self._send_output(message_body, encode_chunked=encode_chunked)\n  File \"/opt/conda/lib/python3.10/http/client.py\", line 1038, in _send_output\n    self.send(msg)\n  File \"/opt/conda/lib/python3.10/http/client.py\", line 976, in send\n    self.connect()\n  File \"/opt/conda/lib/python3.10/site-packages/urllib3/connection.py\", line 243, in connect\n    self.sock = self._new_conn()\n  File \"/opt/conda/lib/python3.10/site-packages/urllib3/connection.py\", line 218, in _new_conn\n    raise NewConnectionError(\nurllib3.exceptions.NewConnectionError: <urllib3.connection.HTTPConnection object at 0x78853259e440>: Failed to establish a new connection: [Errno 111] Connection refused\n\nThe above exception was the direct cause of the following exception:\n\nTraceback (most recent call last):\n  File \"/opt/conda/lib/python3.10/site-packages/requests/adapters.py\", line 667, in send\n    resp = conn.urlopen(\n  File \"/opt/conda/lib/python3.10/site-packages/urllib3/connectionpool.py\", line 844, in urlopen\n    retries = retries.increment(\n  File \"/opt/conda/lib/python3.10/site-packages/urllib3/util/retry.py\", line 515, in increment\n    raise MaxRetryError(_pool, url, reason) from reason  # type: ignore[arg-type]\nurllib3.exceptions.MaxRetryError: HTTPConnectionPool(host='localhost', port=4040): Max retries exceeded with url: /api/tunnels (Caused by NewConnectionError('<urllib3.connection.HTTPConnection object at 0x78853259e440>: Failed to establish a new connection: [Errno 111] Connection refused'))\n\nDuring handling of the above exception, another exception occurred:\n\nTraceback (most recent call last):\n  File \"/opt/conda/lib/python3.10/threading.py\", line 1016, in _bootstrap_inner\n    self.run()\n  File \"/opt/conda/lib/python3.10/threading.py\", line 1378, in run\n    self.function(*self.args, **self.kwargs)\n  File \"/opt/conda/lib/python3.10/site-packages/flask_ngrok.py\", line 70, in start_ngrok\n    ngrok_address = _run_ngrok()\n  File \"/opt/conda/lib/python3.10/site-packages/flask_ngrok.py\", line 35, in _run_ngrok\n    tunnel_url = requests.get(localhost_url).text  # Get the tunnel information\n  File \"/opt/conda/lib/python3.10/site-packages/requests/api.py\", line 73, in get\n    return request(\"get\", url, params=params, **kwargs)\n  File \"/opt/conda/lib/python3.10/site-packages/requests/api.py\", line 59, in request\n    return session.request(method=method, url=url, **kwargs)\n  File \"/opt/conda/lib/python3.10/site-packages/requests/sessions.py\", line 589, in request\n    resp = self.send(prep, **send_kwargs)\n  File \"/opt/conda/lib/python3.10/site-packages/requests/sessions.py\", line 703, in send\n    r = adapter.send(request, **kwargs)\n  File \"/opt/conda/lib/python3.10/site-packages/requests/adapters.py\", line 700, in send\n    raise ConnectionError(e, request=request)\nrequests.exceptions.ConnectionError: HTTPConnectionPool(host='localhost', port=4040): Max retries exceeded with url: /api/tunnels (Caused by NewConnectionError('<urllib3.connection.HTTPConnection object at 0x78853259e440>: Failed to establish a new connection: [Errno 111] Connection refused'))\n",
          "output_type": "stream"
        }
      ]
    },
    {
      "cell_type": "code",
      "source": [
        "from llama_cpp import Llama\n",
        "from llama_cpp.llama_chat_format import MoondreamChatHandler\n",
        "\n",
        "chat_handler = MoondreamChatHandler.from_pretrained(\n",
        "  repo_id=\"vikhyatk/moondream2\",\n",
        "  filename=\"*mmproj*\",\n",
        ")\n",
        "\n",
        "llm = Llama.from_pretrained(\n",
        "  repo_id=\"vikhyatk/moondream2\",\n",
        "  filename=\"*text-model*\",\n",
        "  chat_handler=chat_handler,\n",
        "  n_ctx=2048, # n_ctx should be increased to accommodate the image embedding\n",
        ")\n",
        "\n",
        "response = llm.create_chat_completion(\n",
        "    messages = [\n",
        "        {\n",
        "            \"role\": \"user\",\n",
        "            \"content\": [\n",
        "                {\"type\" : \"text\", \"text\": \"What's in this image?\"},\n",
        "                {\"type\": \"image_url\", \"image_url\": {\"url\": \"https://upload.wikimedia.org/wikipedia/commons/thumb/d/dd/Gfp-wisconsin-madison-the-nature-boardwalk.jpg/2560px-Gfp-wisconsin-madison-the-nature-boardwalk.jpg\" } }\n",
        "\n",
        "            ]\n",
        "        }\n",
        "    ]\n",
        ")\n",
        "print(response[\"choices\"][0][\"text\"])"
      ],
      "metadata": {
        "id": "Ehnl8Y-NO5NT"
      },
      "execution_count": null,
      "outputs": []
    },
    {
      "cell_type": "code",
      "source": [
        "%%bash\n",
        "# Install dependencies\n",
        "# sudo apt-get update\n",
        "# sudo apt-get install build-essential autoconf libtool pkg-config libssl-dev\n",
        "\n",
        "# Download the source code\n",
        "# git clone https://github.com/curl/curl.git\n",
        "\n",
        "# Navigate to the source directory\n",
        "# %cd '/kaggle/working/curl'\n",
        "\n",
        "# Configure the build\n",
        "# ./buildconf\n",
        "# ./configure --with-ssl\n",
        "\n",
        "# Compile the source code\n",
        "# make\n",
        "\n",
        "# Run tests (optional)\n",
        "# make test\n",
        "\n",
        "# Install the compiled software\n",
        "# sudo make install\n",
        "\n",
        "# Verify the installation\n",
        "curl --version\n"
      ],
      "metadata": {
        "trusted": true,
        "id": "yL-kGXqgO5NT"
      },
      "execution_count": null,
      "outputs": []
    },
    {
      "cell_type": "code",
      "source": [
        "%%bash\n",
        "curl --help"
      ],
      "metadata": {
        "trusted": true,
        "id": "UGT9Z-x-O5NT"
      },
      "execution_count": null,
      "outputs": []
    },
    {
      "cell_type": "code",
      "source": [
        "%%bash\n",
        "pwd"
      ],
      "metadata": {
        "trusted": true,
        "id": "wtYUK0oSO5NT"
      },
      "execution_count": null,
      "outputs": []
    }
  ]
}